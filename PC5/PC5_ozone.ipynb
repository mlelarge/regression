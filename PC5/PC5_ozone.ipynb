{
 "cells": [
  {
   "cell_type": "markdown",
   "id": "f0a5c121",
   "metadata": {},
   "source": [
    "# PC5 -  Ozone data\n",
    "\n",
    "cours [MAP 535](https://moodle.polytechnique.fr/course/view.php?id=14763): Regression de Karim Lounici\n",
    "\n",
    "auteur de ce notebook python : Marc Lelarge"
   ]
  },
  {
   "cell_type": "markdown",
   "id": "d801ed8f",
   "metadata": {},
   "source": [
    "Among the chemical components that contribute to the air pollution, ozone is known to have negative effects on people's health when its concentration in the air is too high. To better understand the meteorological conditions that favor a high concentration of ozone in the atmosphere, we are going to analyze a data set that contains 13 variables. Among these variables, we have the ozone concentration during the day and information about the temperature, cloudiness, wind, rain.\n",
    "\n",
    "The data set contains 112 observations from the summer 2001 in Rennes."
   ]
  },
  {
   "cell_type": "code",
   "execution_count": null,
   "id": "80a47da8",
   "metadata": {},
   "outputs": [],
   "source": [
    "import pandas as pd\n",
    "import numpy as np\n",
    "import seaborn as sns\n",
    "import matplotlib.pyplot as plt\n",
    "from patsy import dmatrices\n",
    "import statsmodels.api as sm\n",
    "import statsmodels.formula.api as smf"
   ]
  },
  {
   "cell_type": "markdown",
   "id": "61ea5ee8",
   "metadata": {},
   "source": [
    "### Question 1 : Load the data and make different plots to get an understanding of the distribution(s) of the variables of the data."
   ]
  },
  {
   "cell_type": "code",
   "execution_count": null,
   "id": "9e483da9",
   "metadata": {},
   "outputs": [],
   "source": []
  },
  {
   "cell_type": "markdown",
   "id": "56204aac",
   "metadata": {},
   "source": [
    "### Question 2.\n",
    "\n",
    "Fit a linear regression model for the ozone concentration maxO3 using the temperature forecast for noon T12. Plot the data (scatter plot) and add the estimated regression line. Do all the usual diagnostics and comment on the diagnostics. What can you conclude on the test  $H_0$:   $β_k=0$  vs.  $H_1$:   $β_k≠0$  for  $k∈{0,1}$ ?"
   ]
  },
  {
   "cell_type": "code",
   "execution_count": null,
   "id": "9eb6353b",
   "metadata": {},
   "outputs": [],
   "source": []
  },
  {
   "cell_type": "markdown",
   "id": "aebc25dc",
   "metadata": {},
   "source": [
    "We assess whether our model assumptions are well met by the data.\n",
    "\n",
    "Hint use the function `diagnostic_plots` from the file `diag_plot.py` taken from [Creating Diagnostic Plots in Python](https://robert-alvarez.github.io/2018-06-04-diagnostic_plots/)"
   ]
  },
  {
   "cell_type": "code",
   "execution_count": null,
   "id": "88a6f1b4",
   "metadata": {},
   "outputs": [],
   "source": [
    "from diag_plot import diagnostic_plots"
   ]
  },
  {
   "cell_type": "code",
   "execution_count": null,
   "id": "07a491f5",
   "metadata": {},
   "outputs": [],
   "source": []
  },
  {
   "cell_type": "markdown",
   "id": "8e99070e",
   "metadata": {},
   "source": [
    "### Question 3.\n",
    "\n",
    "To explore this further, fit a regression model that uses all variables as covariates. Use an F-test to compare this to your previous model. What hypothesis are you testing? What is your conclusion?"
   ]
  },
  {
   "cell_type": "code",
   "execution_count": null,
   "id": "9d2fd88d",
   "metadata": {},
   "outputs": [],
   "source": []
  },
  {
   "cell_type": "markdown",
   "id": "7601717e",
   "metadata": {},
   "source": [
    "### Question 4.\n",
    "\n",
    "Now we want to address a different question: how good is each of your two models in terms of prediction error? Estimate the prediction error of both models. What is your conclusion? \n",
    "\n",
    "Hint: use OLS() from statsmodels (as previously) and create random folds with [KFold](https://scikit-learn.org/stable/modules/generated/sklearn.model_selection.KFold.html) from scikit-learn library."
   ]
  },
  {
   "cell_type": "markdown",
   "id": "25be6f92",
   "metadata": {},
   "source": [
    "**Simple model**"
   ]
  },
  {
   "cell_type": "code",
   "execution_count": null,
   "id": "578f7b03",
   "metadata": {},
   "outputs": [],
   "source": []
  },
  {
   "cell_type": "markdown",
   "id": "ded1caba",
   "metadata": {},
   "source": [
    "**Full model**"
   ]
  },
  {
   "cell_type": "code",
   "execution_count": null,
   "id": "714a2da6",
   "metadata": {},
   "outputs": [],
   "source": []
  },
  {
   "cell_type": "markdown",
   "id": "26fc73f4",
   "metadata": {},
   "source": [
    "### Question 5.\n",
    "\n",
    "The data set contains many other potential candidates for regressors of the ozone concentration. We will now apply the classical criteria for variable selection to choose the most pertinent variables to explain/predict the ozone concentration. This week, we will put aside the qualitative variables to focus on the quantitative variables only.\n",
    "\n",
    "Give the best model according to :\n",
    "\n",
    "- the determination coefficient R2,\n",
    "- the adjusted determination coefficient R2a,\n",
    "- the Cp of Mallows,\n",
    "- the BIC criterion\n",
    "Comment these results.\n",
    "\n",
    "Practical note:\n",
    "\n",
    "To choose the best model according to each of these criteria, you can use the function `exhaustivesearch_selectionmodel()` provided in `model_selection_python.py` file.\n",
    "\n",
    "This function allows to select a model by exhaustive search. If you have a data set with many candidate variables, choose another method (backward or forward search). Here, we have 12 candidates, so it is reasonable to do an exhaustive search (among the  $2^{12}−1$  possible models for the model selection)."
   ]
  },
  {
   "cell_type": "code",
   "execution_count": null,
   "id": "87a1b7e0",
   "metadata": {},
   "outputs": [],
   "source": [
    "from model_selection_python import forwardSelection,backwardSelection,bothSelection,exhaustivesearch_selectionmodel"
   ]
  },
  {
   "cell_type": "markdown",
   "id": "b9da9854",
   "metadata": {},
   "source": [
    "### Question 6.\n",
    "\n",
    "Compare the forward, backward and stepwise selection with the AIC criterion. Compare the results to the models selected in the previous questions."
   ]
  },
  {
   "cell_type": "code",
   "execution_count": null,
   "id": "dcba9ff4",
   "metadata": {},
   "outputs": [],
   "source": []
  }
 ],
 "metadata": {
  "kernelspec": {
   "display_name": "regression",
   "language": "python",
   "name": "regression"
  },
  "language_info": {
   "codemirror_mode": {
    "name": "ipython",
    "version": 3
   },
   "file_extension": ".py",
   "mimetype": "text/x-python",
   "name": "python",
   "nbconvert_exporter": "python",
   "pygments_lexer": "ipython3",
   "version": "3.6.9"
  }
 },
 "nbformat": 4,
 "nbformat_minor": 5
}
