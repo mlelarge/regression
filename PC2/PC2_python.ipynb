{
 "cells": [
  {
   "cell_type": "markdown",
   "id": "74fa99c0",
   "metadata": {},
   "source": [
    "# PC2 - Exploratory Data Analysis\n",
    "\n",
    "cours [MAP 535](https://moodle.polytechnique.fr/course/view.php?id=14763): Regression de Karim Lounici\n",
    "\n",
    "auteur de ce notebook python : Marc Lelarge"
   ]
  },
  {
   "cell_type": "markdown",
   "id": "384b22b0",
   "metadata": {},
   "source": [
    "## Setup\n",
    "\n",
    "to create a virtual environment see: https://dataflowr.github.io/website/modules/0-sotfware-installation/\n",
    "\n",
    "The packages required for this practical arge given below:"
   ]
  },
  {
   "cell_type": "raw",
   "id": "be1a899f",
   "metadata": {},
   "source": [
    "pip install pandas\n",
    "python -m pip install --upgrade pip\n",
    "python -m pip install --upgrade pillow\n",
    "pip install seaborn\n",
    "pip install patsy\n",
    "pip install statsmodels"
   ]
  },
  {
   "cell_type": "markdown",
   "id": "5de63824",
   "metadata": {},
   "source": [
    "Dataset can be downloaded on the [Moodle](https://moodle.polytechnique.fr/mod/folder/view.php?id=290499)"
   ]
  },
  {
   "cell_type": "markdown",
   "id": "6100c7e4",
   "metadata": {},
   "source": [
    "## 1. The bea database\n",
    "\n",
    "The data file bea-2006.csv contains information about the economies of the 366 metropolitan statistical areas (cities) of the US in 2006. In particular, it lists, for each city, the population, the total value of all goods and services produced for sale in the city that year per person (per capita gross metropolitan product, pcgmp), and the share of economic output coming from four selected industries.\n",
    "\n",
    "###  1.1 Load the data file and verify that it has 366 rows and 7 columns. Why should it have seven columns, when the paragraph above described only six variables?"
   ]
  },
  {
   "cell_type": "code",
   "execution_count": null,
   "id": "af19f4a4",
   "metadata": {},
   "outputs": [],
   "source": [
    "import pandas as pd\n",
    "import numpy as np"
   ]
  },
  {
   "cell_type": "code",
   "execution_count": null,
   "id": "a397008b",
   "metadata": {},
   "outputs": [],
   "source": []
  },
  {
   "cell_type": "markdown",
   "id": "3020e8bb",
   "metadata": {},
   "source": [
    "### 1.2  Calculate summary statistics for the six numerical-valued columns."
   ]
  },
  {
   "cell_type": "code",
   "execution_count": null,
   "id": "08541ea2",
   "metadata": {},
   "outputs": [],
   "source": []
  },
  {
   "cell_type": "markdown",
   "id": "b74e4b1e",
   "metadata": {},
   "source": [
    "## 2  Exploratory Data Analysis (EDA) plots (hist, boxplot, etc.)\n",
    "\n",
    "### 2.1  Make univariate EDA plots for population and for per-capita GMP, and describe their distributions in words. \n",
    "\n",
    "Use the commands histplot and boxplot of [seaborn](https://seaborn.pydata.org/)"
   ]
  },
  {
   "cell_type": "code",
   "execution_count": null,
   "id": "5c633d88",
   "metadata": {},
   "outputs": [],
   "source": [
    "import seaborn as sns\n",
    "import matplotlib.pyplot as plt\n",
    "sns.set_theme(palette='colorblind')"
   ]
  },
  {
   "cell_type": "code",
   "execution_count": null,
   "id": "a8060771",
   "metadata": {},
   "outputs": [],
   "source": []
  },
  {
   "cell_type": "markdown",
   "id": "4a15c93f",
   "metadata": {},
   "source": [
    "### 2.2  Make a bivariate EDA plot for per-capita GMP as a function of population. Describe the relationship in words."
   ]
  },
  {
   "cell_type": "code",
   "execution_count": null,
   "id": "a32a133f",
   "metadata": {},
   "outputs": [],
   "source": []
  },
  {
   "cell_type": "markdown",
   "id": "1ff21ca4",
   "metadata": {},
   "source": [
    "## 3  Ordinary least squares regression\n",
    "\n",
    "### 3.1  Using only the functions mean, var, cov, sum and arithmetic, calculate the slope and intercept of the least-squares regression line."
   ]
  },
  {
   "cell_type": "code",
   "execution_count": null,
   "id": "1a7876b1",
   "metadata": {},
   "outputs": [],
   "source": []
  },
  {
   "cell_type": "markdown",
   "id": "7ee8e322",
   "metadata": {},
   "source": [
    "### 3.2  What are the slope and intercept returned by the function OLS? Does it agree with your answer in the previous part? Should it?\n",
    "\n",
    "In python we'll use [statsmodels](https://www.statsmodels.org/stable/index.html), and the [OLS method](https://www.statsmodels.org/stable/examples/notebooks/generated/ols.html)"
   ]
  },
  {
   "cell_type": "code",
   "execution_count": null,
   "id": "3a6fab02",
   "metadata": {},
   "outputs": [],
   "source": [
    "import statsmodels.api as sm"
   ]
  },
  {
   "cell_type": "code",
   "execution_count": null,
   "id": "0c68aea7",
   "metadata": {},
   "outputs": [],
   "source": []
  },
  {
   "cell_type": "markdown",
   "id": "2825af00",
   "metadata": {},
   "source": [
    "### 3.3  Add both lines to the bivariate EDA plot. (Add only one line, of course, if you think they are the same.) Comment on the fit. Do the assumptions of the simple linear regression model appear to hold? Are they any places where the fit seems better than others?"
   ]
  },
  {
   "cell_type": "code",
   "execution_count": null,
   "id": "1807d049",
   "metadata": {},
   "outputs": [],
   "source": []
  },
  {
   "cell_type": "markdown",
   "id": "ad581914",
   "metadata": {},
   "source": [
    "### 3.4 Find Pittsburgh in the data set. What is the population? The per-capita GMP? Theper-capita GMP predicted by the model? The residual for Pittsburgh?"
   ]
  },
  {
   "cell_type": "code",
   "execution_count": null,
   "id": "182129f3",
   "metadata": {},
   "outputs": [],
   "source": []
  },
  {
   "cell_type": "markdown",
   "id": "d2515b07",
   "metadata": {},
   "source": [
    "### 3.5  What is the mean squared error of the regression? \n",
    "\n",
    "That is, what is $n^{−1}∑_{i=1}^n e^2_i$ where $e_i=Y_i−Ŷ_i$ is the residual."
   ]
  },
  {
   "cell_type": "code",
   "execution_count": null,
   "id": "c8334623",
   "metadata": {},
   "outputs": [],
   "source": []
  },
  {
   "cell_type": "markdown",
   "id": "a9c54a37",
   "metadata": {},
   "source": [
    "### 3.6  Is the residual for Pittsburgh large, small, or typical compared to the mean squared error (MSE)?"
   ]
  },
  {
   "cell_type": "code",
   "execution_count": null,
   "id": "4ab8c021",
   "metadata": {},
   "outputs": [],
   "source": []
  },
  {
   "cell_type": "markdown",
   "id": "5b24bfb0",
   "metadata": {},
   "source": [
    "### 3.7  Make a plot of residuals (vertical axis) against population (horizontal axis). What should this look like if the assumptions of the simple linear regression model hold? Is the actual plot compatible with those assumptions? Explain."
   ]
  },
  {
   "cell_type": "code",
   "execution_count": null,
   "id": "962c5ef5",
   "metadata": {},
   "outputs": [],
   "source": []
  },
  {
   "cell_type": "markdown",
   "id": "f6f3bb31",
   "metadata": {},
   "source": [
    "### 3.8  Make a plot of squared residuals (vertical axis) against population (horizontal axis). What should this look like if the assumptions of the simple linear regression model hold? Is the actual plot compatible with those assumptions? Explain."
   ]
  },
  {
   "cell_type": "code",
   "execution_count": null,
   "id": "d67d1ea4",
   "metadata": {},
   "outputs": [],
   "source": []
  },
  {
   "cell_type": "markdown",
   "id": "93a8537a",
   "metadata": {},
   "source": [
    "### 3.9  State, carefully, the interpretation of the estimated slope; be sure to refer to the actual variables of the problem, not abstract ones like ‘the predictor variable’ or X."
   ]
  },
  {
   "cell_type": "markdown",
   "id": "48253c1c",
   "metadata": {},
   "source": [
    "## 4  Predictions using OLS estimates¶\n",
    "\n",
    "### 4.1  What per-capita GMP does the model predict for a city with  $10^5$  more people than Pittsburgh?"
   ]
  },
  {
   "cell_type": "code",
   "execution_count": null,
   "id": "5c003737",
   "metadata": {},
   "outputs": [],
   "source": []
  },
  {
   "cell_type": "markdown",
   "id": "423a2cca",
   "metadata": {},
   "source": [
    "### 4.2  What does the model predict would happen to Pittsburgh’s per-capita GMP if, by a policy intervention, we added  $10^5$  people to the population ? (it means if we artificially add  $10^5$  people to each city)"
   ]
  },
  {
   "cell_type": "code",
   "execution_count": null,
   "id": "156b0e37",
   "metadata": {},
   "outputs": [],
   "source": []
  }
 ],
 "metadata": {
  "kernelspec": {
   "display_name": "regression",
   "language": "python",
   "name": "regression"
  },
  "language_info": {
   "codemirror_mode": {
    "name": "ipython",
    "version": 3
   },
   "file_extension": ".py",
   "mimetype": "text/x-python",
   "name": "python",
   "nbconvert_exporter": "python",
   "pygments_lexer": "ipython3",
   "version": "3.6.9"
  }
 },
 "nbformat": 4,
 "nbformat_minor": 5
}
