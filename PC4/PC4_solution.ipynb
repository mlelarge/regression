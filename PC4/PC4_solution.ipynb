{
 "cells": [
  {
   "cell_type": "markdown",
   "id": "41550f0a",
   "metadata": {},
   "source": [
    "# PC4 - Cepages dataset\n",
    "\n",
    "cours [MAP 535](https://moodle.polytechnique.fr/course/view.php?id=14763): Regression de Karim Lounici\n",
    "\n",
    "auteur de ce notebook python : Marc Lelarge\n",
    "\n",
    "We consider the dataset “CepagesB.csv” of 36 observations and 10 variables. We want to explain Y=pH with respect to the others variables.\n",
    "\n",
    "- pH : pH of the wine.\n",
    "- Origine: factor which admits I=2 modalities : Bordeaux and Bourgogne.\n",
    "- Couleur : factor which admits I=2 modalities : Blanc and Rouge.\n",
    "- Alcool : It is the alcohol content of the wine.\n",
    "- Malique : Malic acid that reflects greenness / biting wine (green apple).\n",
    "- Tartrique : Tartaric acid that reflects hardness / structure of the wine (the acid most present in the grapes).\n",
    "- Citrique : Citric acid that reflects freshness of the wine (lemony taste).\n",
    "- Acetique : Acetic acid is a natural organic acid, the main constituent of the volatile acidity of a wine.\n",
    "- Lactique : Lactic acid is an organic acid that plays a role in various biochemical processes.\n",
    "- AcTot : Total acidity."
   ]
  },
  {
   "cell_type": "code",
   "execution_count": 1,
   "id": "e3ec50dc",
   "metadata": {},
   "outputs": [],
   "source": [
    "import pandas as pd\n",
    "import seaborn as sns\n",
    "import statsmodels.api as sm\n",
    "import numpy as np\n",
    "import matplotlib.pyplot as plt\n",
    "import statsmodels.api as sm\n",
    "#from patsy import dmatrices"
   ]
  },
  {
   "cell_type": "markdown",
   "id": "6d8aa570",
   "metadata": {},
   "source": [
    "## Part 1. Descriptive analysis.\n",
    "\n",
    "### Question 1. Check the nature of the dataset and make the necessary changes."
   ]
  },
  {
   "cell_type": "code",
   "execution_count": 2,
   "id": "abfd4cae",
   "metadata": {},
   "outputs": [],
   "source": [
    "df = pd.read_csv('./CepagesB.csv', sep=\";\" , index_col=\"Libelle\")"
   ]
  },
  {
   "cell_type": "code",
   "execution_count": 3,
   "id": "6d0ae545",
   "metadata": {},
   "outputs": [
    {
     "name": "stdout",
     "output_type": "stream",
     "text": [
      "<class 'pandas.core.frame.DataFrame'>\n",
      "Int64Index: 36 entries, 1 to 36\n",
      "Data columns (total 10 columns):\n",
      " #   Column     Non-Null Count  Dtype \n",
      "---  ------     --------------  ----- \n",
      " 0   Origine    36 non-null     object\n",
      " 1   Couleur    36 non-null     object\n",
      " 2   Alcool     36 non-null     object\n",
      " 3   pH         36 non-null     object\n",
      " 4   AcTot      36 non-null     int64 \n",
      " 5   Tartrique  36 non-null     object\n",
      " 6   Malique    36 non-null     object\n",
      " 7   Citrique   36 non-null     object\n",
      " 8   Acetique   36 non-null     object\n",
      " 9   Lactique   36 non-null     object\n",
      "dtypes: int64(1), object(9)\n",
      "memory usage: 3.1+ KB\n"
     ]
    }
   ],
   "source": [
    "df.info()"
   ]
  },
  {
   "cell_type": "code",
   "execution_count": 4,
   "id": "a58a573b",
   "metadata": {},
   "outputs": [
    {
     "data": {
      "text/html": [
       "<div>\n",
       "<style scoped>\n",
       "    .dataframe tbody tr th:only-of-type {\n",
       "        vertical-align: middle;\n",
       "    }\n",
       "\n",
       "    .dataframe tbody tr th {\n",
       "        vertical-align: top;\n",
       "    }\n",
       "\n",
       "    .dataframe thead th {\n",
       "        text-align: right;\n",
       "    }\n",
       "</style>\n",
       "<table border=\"1\" class=\"dataframe\">\n",
       "  <thead>\n",
       "    <tr style=\"text-align: right;\">\n",
       "      <th></th>\n",
       "      <th>Origine</th>\n",
       "      <th>Couleur</th>\n",
       "      <th>Alcool</th>\n",
       "      <th>pH</th>\n",
       "      <th>AcTot</th>\n",
       "      <th>Tartrique</th>\n",
       "      <th>Malique</th>\n",
       "      <th>Citrique</th>\n",
       "      <th>Acetique</th>\n",
       "      <th>Lactique</th>\n",
       "    </tr>\n",
       "    <tr>\n",
       "      <th>Libelle</th>\n",
       "      <th></th>\n",
       "      <th></th>\n",
       "      <th></th>\n",
       "      <th></th>\n",
       "      <th></th>\n",
       "      <th></th>\n",
       "      <th></th>\n",
       "      <th></th>\n",
       "      <th></th>\n",
       "      <th></th>\n",
       "    </tr>\n",
       "  </thead>\n",
       "  <tbody>\n",
       "    <tr>\n",
       "      <th>1</th>\n",
       "      <td>Bordeaux</td>\n",
       "      <td>Blanc</td>\n",
       "      <td>12</td>\n",
       "      <td>2,84</td>\n",
       "      <td>89</td>\n",
       "      <td>21,1</td>\n",
       "      <td>21</td>\n",
       "      <td>4,3</td>\n",
       "      <td>16,9</td>\n",
       "      <td>9,3</td>\n",
       "    </tr>\n",
       "    <tr>\n",
       "      <th>2</th>\n",
       "      <td>Bordeaux</td>\n",
       "      <td>Blanc</td>\n",
       "      <td>11,5</td>\n",
       "      <td>3,1</td>\n",
       "      <td>97</td>\n",
       "      <td>26,4</td>\n",
       "      <td>34,2</td>\n",
       "      <td>3,9</td>\n",
       "      <td>9,9</td>\n",
       "      <td>16</td>\n",
       "    </tr>\n",
       "    <tr>\n",
       "      <th>3</th>\n",
       "      <td>Bordeaux</td>\n",
       "      <td>Blanc</td>\n",
       "      <td>14,6</td>\n",
       "      <td>2,96</td>\n",
       "      <td>99</td>\n",
       "      <td>20,7</td>\n",
       "      <td>21,8</td>\n",
       "      <td>8,1</td>\n",
       "      <td>19,7</td>\n",
       "      <td>11,2</td>\n",
       "    </tr>\n",
       "    <tr>\n",
       "      <th>4</th>\n",
       "      <td>Bordeaux</td>\n",
       "      <td>Blanc</td>\n",
       "      <td>10,5</td>\n",
       "      <td>3,1</td>\n",
       "      <td>72</td>\n",
       "      <td>29,7</td>\n",
       "      <td>4,2</td>\n",
       "      <td>3,6</td>\n",
       "      <td>11,9</td>\n",
       "      <td>14,4</td>\n",
       "    </tr>\n",
       "    <tr>\n",
       "      <th>5</th>\n",
       "      <td>Bordeaux</td>\n",
       "      <td>Blanc</td>\n",
       "      <td>14</td>\n",
       "      <td>3,29</td>\n",
       "      <td>76</td>\n",
       "      <td>22,3</td>\n",
       "      <td>9,3</td>\n",
       "      <td>4,7</td>\n",
       "      <td>20,1</td>\n",
       "      <td>21,6</td>\n",
       "    </tr>\n",
       "  </tbody>\n",
       "</table>\n",
       "</div>"
      ],
      "text/plain": [
       "          Origine Couleur Alcool    pH  AcTot Tartrique Malique Citrique  \\\n",
       "Libelle                                                                    \n",
       "1        Bordeaux   Blanc     12  2,84     89      21,1      21      4,3   \n",
       "2        Bordeaux   Blanc   11,5   3,1     97      26,4    34,2      3,9   \n",
       "3        Bordeaux   Blanc   14,6  2,96     99      20,7    21,8      8,1   \n",
       "4        Bordeaux   Blanc   10,5   3,1     72      29,7     4,2      3,6   \n",
       "5        Bordeaux   Blanc     14  3,29     76      22,3     9,3      4,7   \n",
       "\n",
       "        Acetique Lactique  \n",
       "Libelle                    \n",
       "1           16,9      9,3  \n",
       "2            9,9       16  \n",
       "3           19,7     11,2  \n",
       "4           11,9     14,4  \n",
       "5           20,1     21,6  "
      ]
     },
     "execution_count": 4,
     "metadata": {},
     "output_type": "execute_result"
    }
   ],
   "source": [
    "df.head()"
   ]
  },
  {
   "cell_type": "code",
   "execution_count": 5,
   "id": "7b4d9c8a",
   "metadata": {},
   "outputs": [],
   "source": [
    "for col in df.columns[2:]:#['Alcool', 'pH', 'AcTot', 'Tartrique', 'Malique', 'Citrique', 'Acetique', 'Lactique']:\n",
    "    df[col] = [float(str(i).replace(\",\", \".\")) for i in df[col]]"
   ]
  },
  {
   "cell_type": "code",
   "execution_count": 6,
   "id": "bc3cb715",
   "metadata": {},
   "outputs": [
    {
     "data": {
      "text/html": [
       "<div>\n",
       "<style scoped>\n",
       "    .dataframe tbody tr th:only-of-type {\n",
       "        vertical-align: middle;\n",
       "    }\n",
       "\n",
       "    .dataframe tbody tr th {\n",
       "        vertical-align: top;\n",
       "    }\n",
       "\n",
       "    .dataframe thead th {\n",
       "        text-align: right;\n",
       "    }\n",
       "</style>\n",
       "<table border=\"1\" class=\"dataframe\">\n",
       "  <thead>\n",
       "    <tr style=\"text-align: right;\">\n",
       "      <th></th>\n",
       "      <th>Origine</th>\n",
       "      <th>Couleur</th>\n",
       "      <th>Alcool</th>\n",
       "      <th>pH</th>\n",
       "      <th>AcTot</th>\n",
       "      <th>Tartrique</th>\n",
       "      <th>Malique</th>\n",
       "      <th>Citrique</th>\n",
       "      <th>Acetique</th>\n",
       "      <th>Lactique</th>\n",
       "    </tr>\n",
       "    <tr>\n",
       "      <th>Libelle</th>\n",
       "      <th></th>\n",
       "      <th></th>\n",
       "      <th></th>\n",
       "      <th></th>\n",
       "      <th></th>\n",
       "      <th></th>\n",
       "      <th></th>\n",
       "      <th></th>\n",
       "      <th></th>\n",
       "      <th></th>\n",
       "    </tr>\n",
       "  </thead>\n",
       "  <tbody>\n",
       "    <tr>\n",
       "      <th>1</th>\n",
       "      <td>Bordeaux</td>\n",
       "      <td>Blanc</td>\n",
       "      <td>12.0</td>\n",
       "      <td>2.84</td>\n",
       "      <td>89.0</td>\n",
       "      <td>21.1</td>\n",
       "      <td>21.0</td>\n",
       "      <td>4.3</td>\n",
       "      <td>16.9</td>\n",
       "      <td>9.3</td>\n",
       "    </tr>\n",
       "    <tr>\n",
       "      <th>2</th>\n",
       "      <td>Bordeaux</td>\n",
       "      <td>Blanc</td>\n",
       "      <td>11.5</td>\n",
       "      <td>3.10</td>\n",
       "      <td>97.0</td>\n",
       "      <td>26.4</td>\n",
       "      <td>34.2</td>\n",
       "      <td>3.9</td>\n",
       "      <td>9.9</td>\n",
       "      <td>16.0</td>\n",
       "    </tr>\n",
       "    <tr>\n",
       "      <th>3</th>\n",
       "      <td>Bordeaux</td>\n",
       "      <td>Blanc</td>\n",
       "      <td>14.6</td>\n",
       "      <td>2.96</td>\n",
       "      <td>99.0</td>\n",
       "      <td>20.7</td>\n",
       "      <td>21.8</td>\n",
       "      <td>8.1</td>\n",
       "      <td>19.7</td>\n",
       "      <td>11.2</td>\n",
       "    </tr>\n",
       "    <tr>\n",
       "      <th>4</th>\n",
       "      <td>Bordeaux</td>\n",
       "      <td>Blanc</td>\n",
       "      <td>10.5</td>\n",
       "      <td>3.10</td>\n",
       "      <td>72.0</td>\n",
       "      <td>29.7</td>\n",
       "      <td>4.2</td>\n",
       "      <td>3.6</td>\n",
       "      <td>11.9</td>\n",
       "      <td>14.4</td>\n",
       "    </tr>\n",
       "    <tr>\n",
       "      <th>5</th>\n",
       "      <td>Bordeaux</td>\n",
       "      <td>Blanc</td>\n",
       "      <td>14.0</td>\n",
       "      <td>3.29</td>\n",
       "      <td>76.0</td>\n",
       "      <td>22.3</td>\n",
       "      <td>9.3</td>\n",
       "      <td>4.7</td>\n",
       "      <td>20.1</td>\n",
       "      <td>21.6</td>\n",
       "    </tr>\n",
       "  </tbody>\n",
       "</table>\n",
       "</div>"
      ],
      "text/plain": [
       "          Origine Couleur  Alcool    pH  AcTot  Tartrique  Malique  Citrique  \\\n",
       "Libelle                                                                        \n",
       "1        Bordeaux   Blanc    12.0  2.84   89.0       21.1     21.0       4.3   \n",
       "2        Bordeaux   Blanc    11.5  3.10   97.0       26.4     34.2       3.9   \n",
       "3        Bordeaux   Blanc    14.6  2.96   99.0       20.7     21.8       8.1   \n",
       "4        Bordeaux   Blanc    10.5  3.10   72.0       29.7      4.2       3.6   \n",
       "5        Bordeaux   Blanc    14.0  3.29   76.0       22.3      9.3       4.7   \n",
       "\n",
       "         Acetique  Lactique  \n",
       "Libelle                      \n",
       "1            16.9       9.3  \n",
       "2             9.9      16.0  \n",
       "3            19.7      11.2  \n",
       "4            11.9      14.4  \n",
       "5            20.1      21.6  "
      ]
     },
     "execution_count": 6,
     "metadata": {},
     "output_type": "execute_result"
    }
   ],
   "source": [
    "df.head()"
   ]
  },
  {
   "cell_type": "markdown",
   "id": "3db11d75",
   "metadata": {},
   "source": [
    "### Question 2. Display the Table of counts according to Color and Origin"
   ]
  },
  {
   "cell_type": "code",
   "execution_count": 7,
   "id": "f5f65eeb",
   "metadata": {},
   "outputs": [
    {
     "data": {
      "text/plain": [
       "array(['Blanc', 'Rouge'], dtype=object)"
      ]
     },
     "execution_count": 7,
     "metadata": {},
     "output_type": "execute_result"
    }
   ],
   "source": [
    "df['Couleur'].unique()"
   ]
  },
  {
   "cell_type": "code",
   "execution_count": 8,
   "id": "ae944fbb",
   "metadata": {},
   "outputs": [
    {
     "data": {
      "text/plain": [
       "Couleur\n",
       "Blanc    18\n",
       "Rouge    18\n",
       "Name: Couleur, dtype: int64"
      ]
     },
     "execution_count": 8,
     "metadata": {},
     "output_type": "execute_result"
    }
   ],
   "source": [
    "df.groupby(['Couleur'])['Couleur'].count()"
   ]
  },
  {
   "cell_type": "code",
   "execution_count": 9,
   "id": "0338098b",
   "metadata": {},
   "outputs": [
    {
     "data": {
      "text/html": [
       "<div>\n",
       "<style scoped>\n",
       "    .dataframe tbody tr th:only-of-type {\n",
       "        vertical-align: middle;\n",
       "    }\n",
       "\n",
       "    .dataframe tbody tr th {\n",
       "        vertical-align: top;\n",
       "    }\n",
       "\n",
       "    .dataframe thead th {\n",
       "        text-align: right;\n",
       "    }\n",
       "</style>\n",
       "<table border=\"1\" class=\"dataframe\">\n",
       "  <thead>\n",
       "    <tr style=\"text-align: right;\">\n",
       "      <th></th>\n",
       "      <th>Origine</th>\n",
       "    </tr>\n",
       "    <tr>\n",
       "      <th>Origine</th>\n",
       "      <th></th>\n",
       "    </tr>\n",
       "  </thead>\n",
       "  <tbody>\n",
       "    <tr>\n",
       "      <th>Bordeaux</th>\n",
       "      <td>18</td>\n",
       "    </tr>\n",
       "    <tr>\n",
       "      <th>Bourgogne</th>\n",
       "      <td>18</td>\n",
       "    </tr>\n",
       "  </tbody>\n",
       "</table>\n",
       "</div>"
      ],
      "text/plain": [
       "           Origine\n",
       "Origine           \n",
       "Bordeaux        18\n",
       "Bourgogne       18"
      ]
     },
     "execution_count": 9,
     "metadata": {},
     "output_type": "execute_result"
    }
   ],
   "source": [
    "df.groupby(['Origine'])[['Origine']].count()"
   ]
  },
  {
   "cell_type": "markdown",
   "id": "f9739976",
   "metadata": {},
   "source": [
    "### Question 3. Display the table of the average pH according to Couleur modalities. Display the table of the average pH according to Couleur modalities and Origine modalities."
   ]
  },
  {
   "cell_type": "code",
   "execution_count": 10,
   "id": "7588172f",
   "metadata": {},
   "outputs": [],
   "source": [
    "df_col = df.groupby(['Couleur']).mean()"
   ]
  },
  {
   "cell_type": "code",
   "execution_count": 11,
   "id": "ab54ac77",
   "metadata": {},
   "outputs": [
    {
     "data": {
      "text/plain": [
       "Couleur\n",
       "Blanc    3.040556\n",
       "Rouge    3.414444\n",
       "Name: pH, dtype: float64"
      ]
     },
     "execution_count": 11,
     "metadata": {},
     "output_type": "execute_result"
    }
   ],
   "source": [
    "df_col['pH']"
   ]
  },
  {
   "cell_type": "code",
   "execution_count": 12,
   "id": "0fdc07d0",
   "metadata": {},
   "outputs": [],
   "source": [
    "df_col_org = df.groupby(['Couleur', 'Origine']).mean()"
   ]
  },
  {
   "cell_type": "code",
   "execution_count": 13,
   "id": "148638f9",
   "metadata": {},
   "outputs": [
    {
     "data": {
      "text/html": [
       "<div>\n",
       "<style scoped>\n",
       "    .dataframe tbody tr th:only-of-type {\n",
       "        vertical-align: middle;\n",
       "    }\n",
       "\n",
       "    .dataframe tbody tr th {\n",
       "        vertical-align: top;\n",
       "    }\n",
       "\n",
       "    .dataframe thead th {\n",
       "        text-align: right;\n",
       "    }\n",
       "</style>\n",
       "<table border=\"1\" class=\"dataframe\">\n",
       "  <thead>\n",
       "    <tr style=\"text-align: right;\">\n",
       "      <th></th>\n",
       "      <th></th>\n",
       "      <th>Alcool</th>\n",
       "      <th>pH</th>\n",
       "      <th>AcTot</th>\n",
       "      <th>Tartrique</th>\n",
       "      <th>Malique</th>\n",
       "      <th>Citrique</th>\n",
       "      <th>Acetique</th>\n",
       "      <th>Lactique</th>\n",
       "    </tr>\n",
       "    <tr>\n",
       "      <th>Couleur</th>\n",
       "      <th>Origine</th>\n",
       "      <th></th>\n",
       "      <th></th>\n",
       "      <th></th>\n",
       "      <th></th>\n",
       "      <th></th>\n",
       "      <th></th>\n",
       "      <th></th>\n",
       "      <th></th>\n",
       "    </tr>\n",
       "  </thead>\n",
       "  <tbody>\n",
       "    <tr>\n",
       "      <th rowspan=\"2\" valign=\"top\">Blanc</th>\n",
       "      <th>Bordeaux</th>\n",
       "      <td>12.866667</td>\n",
       "      <td>3.102222</td>\n",
       "      <td>85.888889</td>\n",
       "      <td>24.133333</td>\n",
       "      <td>18.466667</td>\n",
       "      <td>5.311111</td>\n",
       "      <td>16.333333</td>\n",
       "      <td>13.655556</td>\n",
       "    </tr>\n",
       "    <tr>\n",
       "      <th>Bourgogne</th>\n",
       "      <td>11.988889</td>\n",
       "      <td>2.978889</td>\n",
       "      <td>101.777778</td>\n",
       "      <td>40.088889</td>\n",
       "      <td>23.688889</td>\n",
       "      <td>4.233333</td>\n",
       "      <td>12.466667</td>\n",
       "      <td>14.711111</td>\n",
       "    </tr>\n",
       "    <tr>\n",
       "      <th rowspan=\"2\" valign=\"top\">Rouge</th>\n",
       "      <th>Bordeaux</th>\n",
       "      <td>11.177778</td>\n",
       "      <td>3.421111</td>\n",
       "      <td>76.000000</td>\n",
       "      <td>26.344444</td>\n",
       "      <td>2.644444</td>\n",
       "      <td>1.466667</td>\n",
       "      <td>18.133333</td>\n",
       "      <td>24.255556</td>\n",
       "    </tr>\n",
       "    <tr>\n",
       "      <th>Bourgogne</th>\n",
       "      <td>13.366667</td>\n",
       "      <td>3.407778</td>\n",
       "      <td>80.555556</td>\n",
       "      <td>32.733333</td>\n",
       "      <td>3.244444</td>\n",
       "      <td>2.144444</td>\n",
       "      <td>15.744444</td>\n",
       "      <td>26.988889</td>\n",
       "    </tr>\n",
       "  </tbody>\n",
       "</table>\n",
       "</div>"
      ],
      "text/plain": [
       "                      Alcool        pH       AcTot  Tartrique    Malique  \\\n",
       "Couleur Origine                                                            \n",
       "Blanc   Bordeaux   12.866667  3.102222   85.888889  24.133333  18.466667   \n",
       "        Bourgogne  11.988889  2.978889  101.777778  40.088889  23.688889   \n",
       "Rouge   Bordeaux   11.177778  3.421111   76.000000  26.344444   2.644444   \n",
       "        Bourgogne  13.366667  3.407778   80.555556  32.733333   3.244444   \n",
       "\n",
       "                   Citrique   Acetique   Lactique  \n",
       "Couleur Origine                                    \n",
       "Blanc   Bordeaux   5.311111  16.333333  13.655556  \n",
       "        Bourgogne  4.233333  12.466667  14.711111  \n",
       "Rouge   Bordeaux   1.466667  18.133333  24.255556  \n",
       "        Bourgogne  2.144444  15.744444  26.988889  "
      ]
     },
     "execution_count": 13,
     "metadata": {},
     "output_type": "execute_result"
    }
   ],
   "source": [
    "df_col_org.head()"
   ]
  },
  {
   "cell_type": "code",
   "execution_count": 14,
   "id": "02fe83d9",
   "metadata": {},
   "outputs": [
    {
     "data": {
      "text/plain": [
       "Couleur  Origine  \n",
       "Blanc    Bordeaux     3.102222\n",
       "         Bourgogne    2.978889\n",
       "Rouge    Bordeaux     3.421111\n",
       "         Bourgogne    3.407778\n",
       "Name: pH, dtype: float64"
      ]
     },
     "execution_count": 14,
     "metadata": {},
     "output_type": "execute_result"
    }
   ],
   "source": [
    "df_col_org['pH']"
   ]
  },
  {
   "cell_type": "markdown",
   "id": "48206709",
   "metadata": {},
   "source": [
    "### Question 4. Plot the regression lines of pH over AcTot for the different modalities of Couleur. Display boxplots for pH based on color modalities. Comments\n",
    "\n",
    "hint: [seaborn.lmplot](https://seaborn.pydata.org/generated/seaborn.lmplot.html)"
   ]
  },
  {
   "cell_type": "code",
   "execution_count": 15,
   "id": "294cd52d",
   "metadata": {},
   "outputs": [
    {
     "data": {
      "image/png": "[encoded data removed]",
      "text/plain": [
       "<Figure size 427.25x360 with 1 Axes>"
      ]
     },
     "metadata": {
      "needs_background": "light"
     },
     "output_type": "display_data"
    }
   ],
   "source": [
    "sns.lmplot(x='AcTot',y='pH',hue='Couleur',data=df,ci=95);"
   ]
  },
  {
   "cell_type": "code",
   "execution_count": 16,
   "id": "ab697404",
   "metadata": {},
   "outputs": [
    {
     "data": {
      "image/png": "[encoded data removed]",
      "text/plain": [
       "<Figure size 432x288 with 1 Axes>"
      ]
     },
     "metadata": {
      "needs_background": "light"
     },
     "output_type": "display_data"
    }
   ],
   "source": [
    "sns.boxplot(x='Couleur',y='pH',data=df);"
   ]
  },
  {
   "cell_type": "markdown",
   "id": "50638cb2",
   "metadata": {},
   "source": [
    "**Answer :** We observe two distinct regression lines and two distinct boxplots. The color seems to have an impact on the pH. However, the slopes appear to be the same, so we assume that there is no interaction between ATtot and Couleur."
   ]
  },
  {
   "cell_type": "markdown",
   "id": "1ed285d5",
   "metadata": {},
   "source": [
    "### Question 5. Plot the regression lines of ph over AcTot for the different modalities of Origine. Display boxplots for pH based on color modalities. Comments"
   ]
  },
  {
   "cell_type": "code",
   "execution_count": 17,
   "id": "a5516328",
   "metadata": {},
   "outputs": [
    {
     "data": {
      "image/png": "[encoded data removed]",
      "text/plain": [
       "<Figure size 450.5x360 with 1 Axes>"
      ]
     },
     "metadata": {
      "needs_background": "light"
     },
     "output_type": "display_data"
    }
   ],
   "source": [
    "sns.lmplot(x='AcTot',y='pH',hue='Origine',data=df,ci=95);"
   ]
  },
  {
   "cell_type": "code",
   "execution_count": 18,
   "id": "29449293",
   "metadata": {},
   "outputs": [
    {
     "data": {
      "image/png": "[encoded data removed]",
      "text/plain": [
       "<Figure size 432x288 with 1 Axes>"
      ]
     },
     "metadata": {
      "needs_background": "light"
     },
     "output_type": "display_data"
    }
   ],
   "source": [
    "sns.boxplot(x='Origine',y='pH',data=df);"
   ]
  },
  {
   "cell_type": "markdown",
   "id": "3600a6b3",
   "metadata": {},
   "source": [
    "**Answer :** The impact is less obvious here"
   ]
  },
  {
   "cell_type": "markdown",
   "id": "15aee032",
   "metadata": {},
   "source": [
    "## Part 2. Ancova 2 factors model\n",
    "\n",
    "We want to explain the pH as a function of the AcTot and Couleur (consider interaction between AcTot and Couleur).\n",
    "\n",
    "### Question 1. Compute this Ancova 2 factor Model with default constraint\n",
    "\n",
    "hint: [anova_lm](https://www.statsmodels.org/dev/generated/statsmodels.stats.anova.anova_lm.html)"
   ]
  },
  {
   "cell_type": "markdown",
   "id": "ae80daba",
   "metadata": {},
   "source": [
    "Useful blog: [ANOVA using Python (with examples)](https://www.reneshbedre.com/blog/anova.html)"
   ]
  },
  {
   "cell_type": "code",
   "execution_count": 19,
   "id": "f442e10b",
   "metadata": {},
   "outputs": [],
   "source": [
    "from statsmodels.formula.api import ols"
   ]
  },
  {
   "cell_type": "code",
   "execution_count": 20,
   "id": "81e1abf3",
   "metadata": {},
   "outputs": [],
   "source": [
    "model_ancova = ols('pH ~ Couleur * AcTot * Origine', df).fit()"
   ]
  },
  {
   "cell_type": "markdown",
   "id": "ccfd6d17",
   "metadata": {},
   "source": [
    "### Question 2. Test the influence of the regressor with “anova()” and “Anova()”. Comments."
   ]
  },
  {
   "cell_type": "code",
   "execution_count": 21,
   "id": "89177091",
   "metadata": {},
   "outputs": [],
   "source": [
    "def stars(df):\n",
    "    # Thanks Baptiste!\n",
    "    n = len(df)\n",
    "    l = []\n",
    "    for i in range(n):\n",
    "        if df.iloc[i, -1] < 0.001:\n",
    "            l.append('***')\n",
    "        elif df.iloc[i, -1] >= 0.001 and df.iloc[i, -1] < 0.01:\n",
    "            l.append('**')\n",
    "        elif df.iloc[i, -1] >= 0.01 and df.iloc[i, -1] < 0.05:\n",
    "            l.append('*')\n",
    "        elif df.iloc[i, -1] >= 0.05 and df.iloc[i, -1] < 0.1:\n",
    "            l.append('.')\n",
    "        else:\n",
    "            l.append('')\n",
    "    df['stars'] = l\n",
    "    return df"
   ]
  },
  {
   "cell_type": "code",
   "execution_count": 22,
   "id": "7ef7b4cd",
   "metadata": {},
   "outputs": [
    {
     "name": "stdout",
     "output_type": "stream",
     "text": [
      "                         df    sum_sq   mean_sq          F        PR(>F)\n",
      "Couleur                 1.0  1.258136  1.258136  72.908888  2.785197e-09\n",
      "Origine                 1.0  0.042025  0.042025   2.435345  1.298605e-01\n",
      "Couleur:Origine         1.0  0.027225  0.027225   1.577687  2.194741e-01\n",
      "AcTot                   1.0  0.295320  0.295320  17.113778  2.908141e-04\n",
      "Couleur:AcTot           1.0  0.007882  0.007882   0.456753  5.046895e-01\n",
      "AcTot:Origine           1.0  0.004367  0.004367   0.253065  6.188596e-01\n",
      "Couleur:AcTot:Origine   1.0  0.002144  0.002144   0.124252  7.271069e-01\n",
      "Residual               28.0  0.483176  0.017256        NaN           NaN\n"
     ]
    }
   ],
   "source": [
    "anova_table1 = sm.stats.anova_lm(model_ancova, typ=1)\n",
    "print(anova_table1)"
   ]
  },
  {
   "cell_type": "code",
   "execution_count": 23,
   "id": "ca6392ae",
   "metadata": {},
   "outputs": [
    {
     "data": {
      "text/html": [
       "<div>\n",
       "<style scoped>\n",
       "    .dataframe tbody tr th:only-of-type {\n",
       "        vertical-align: middle;\n",
       "    }\n",
       "\n",
       "    .dataframe tbody tr th {\n",
       "        vertical-align: top;\n",
       "    }\n",
       "\n",
       "    .dataframe thead th {\n",
       "        text-align: right;\n",
       "    }\n",
       "</style>\n",
       "<table border=\"1\" class=\"dataframe\">\n",
       "  <thead>\n",
       "    <tr style=\"text-align: right;\">\n",
       "      <th></th>\n",
       "      <th>df</th>\n",
       "      <th>sum_sq</th>\n",
       "      <th>mean_sq</th>\n",
       "      <th>F</th>\n",
       "      <th>PR(&gt;F)</th>\n",
       "      <th>stars</th>\n",
       "    </tr>\n",
       "  </thead>\n",
       "  <tbody>\n",
       "    <tr>\n",
       "      <th>Couleur</th>\n",
       "      <td>1.0</td>\n",
       "      <td>1.258136</td>\n",
       "      <td>1.258136</td>\n",
       "      <td>72.908888</td>\n",
       "      <td>2.785197e-09</td>\n",
       "      <td>***</td>\n",
       "    </tr>\n",
       "    <tr>\n",
       "      <th>Origine</th>\n",
       "      <td>1.0</td>\n",
       "      <td>0.042025</td>\n",
       "      <td>0.042025</td>\n",
       "      <td>2.435345</td>\n",
       "      <td>1.298605e-01</td>\n",
       "      <td></td>\n",
       "    </tr>\n",
       "    <tr>\n",
       "      <th>Couleur:Origine</th>\n",
       "      <td>1.0</td>\n",
       "      <td>0.027225</td>\n",
       "      <td>0.027225</td>\n",
       "      <td>1.577687</td>\n",
       "      <td>2.194741e-01</td>\n",
       "      <td></td>\n",
       "    </tr>\n",
       "    <tr>\n",
       "      <th>AcTot</th>\n",
       "      <td>1.0</td>\n",
       "      <td>0.295320</td>\n",
       "      <td>0.295320</td>\n",
       "      <td>17.113778</td>\n",
       "      <td>2.908141e-04</td>\n",
       "      <td>***</td>\n",
       "    </tr>\n",
       "    <tr>\n",
       "      <th>Couleur:AcTot</th>\n",
       "      <td>1.0</td>\n",
       "      <td>0.007882</td>\n",
       "      <td>0.007882</td>\n",
       "      <td>0.456753</td>\n",
       "      <td>5.046895e-01</td>\n",
       "      <td></td>\n",
       "    </tr>\n",
       "    <tr>\n",
       "      <th>AcTot:Origine</th>\n",
       "      <td>1.0</td>\n",
       "      <td>0.004367</td>\n",
       "      <td>0.004367</td>\n",
       "      <td>0.253065</td>\n",
       "      <td>6.188596e-01</td>\n",
       "      <td></td>\n",
       "    </tr>\n",
       "    <tr>\n",
       "      <th>Couleur:AcTot:Origine</th>\n",
       "      <td>1.0</td>\n",
       "      <td>0.002144</td>\n",
       "      <td>0.002144</td>\n",
       "      <td>0.124252</td>\n",
       "      <td>7.271069e-01</td>\n",
       "      <td></td>\n",
       "    </tr>\n",
       "    <tr>\n",
       "      <th>Residual</th>\n",
       "      <td>28.0</td>\n",
       "      <td>0.483176</td>\n",
       "      <td>0.017256</td>\n",
       "      <td>NaN</td>\n",
       "      <td>NaN</td>\n",
       "      <td></td>\n",
       "    </tr>\n",
       "  </tbody>\n",
       "</table>\n",
       "</div>"
      ],
      "text/plain": [
       "                         df    sum_sq   mean_sq          F        PR(>F) stars\n",
       "Couleur                 1.0  1.258136  1.258136  72.908888  2.785197e-09   ***\n",
       "Origine                 1.0  0.042025  0.042025   2.435345  1.298605e-01      \n",
       "Couleur:Origine         1.0  0.027225  0.027225   1.577687  2.194741e-01      \n",
       "AcTot                   1.0  0.295320  0.295320  17.113778  2.908141e-04   ***\n",
       "Couleur:AcTot           1.0  0.007882  0.007882   0.456753  5.046895e-01      \n",
       "AcTot:Origine           1.0  0.004367  0.004367   0.253065  6.188596e-01      \n",
       "Couleur:AcTot:Origine   1.0  0.002144  0.002144   0.124252  7.271069e-01      \n",
       "Residual               28.0  0.483176  0.017256        NaN           NaN      "
      ]
     },
     "execution_count": 23,
     "metadata": {},
     "output_type": "execute_result"
    }
   ],
   "source": [
    "stars(anova_table1)"
   ]
  },
  {
   "cell_type": "code",
   "execution_count": 24,
   "id": "7e0d4b9f",
   "metadata": {},
   "outputs": [
    {
     "name": "stdout",
     "output_type": "stream",
     "text": [
      "                         sum_sq    df          F    PR(>F)\n",
      "Couleur                0.244576   1.0  14.173164  0.000787\n",
      "Origine                0.009609   1.0   0.556814  0.461766\n",
      "Couleur:Origine        0.004144   1.0   0.240159  0.627909\n",
      "AcTot                  0.295320   1.0  17.113778  0.000291\n",
      "Couleur:AcTot          0.008691   1.0   0.503651  0.483769\n",
      "AcTot:Origine          0.004367   1.0   0.253065  0.618860\n",
      "Couleur:AcTot:Origine  0.002144   1.0   0.124252  0.727107\n",
      "Residual               0.483176  28.0        NaN       NaN\n"
     ]
    }
   ],
   "source": [
    "anova_table2 = sm.stats.anova_lm(model_ancova, typ=2)\n",
    "print(anova_table2)"
   ]
  },
  {
   "cell_type": "code",
   "execution_count": 25,
   "id": "bf1a9dd1",
   "metadata": {},
   "outputs": [
    {
     "data": {
      "text/html": [
       "<div>\n",
       "<style scoped>\n",
       "    .dataframe tbody tr th:only-of-type {\n",
       "        vertical-align: middle;\n",
       "    }\n",
       "\n",
       "    .dataframe tbody tr th {\n",
       "        vertical-align: top;\n",
       "    }\n",
       "\n",
       "    .dataframe thead th {\n",
       "        text-align: right;\n",
       "    }\n",
       "</style>\n",
       "<table border=\"1\" class=\"dataframe\">\n",
       "  <thead>\n",
       "    <tr style=\"text-align: right;\">\n",
       "      <th></th>\n",
       "      <th>sum_sq</th>\n",
       "      <th>df</th>\n",
       "      <th>F</th>\n",
       "      <th>PR(&gt;F)</th>\n",
       "      <th>stars</th>\n",
       "    </tr>\n",
       "  </thead>\n",
       "  <tbody>\n",
       "    <tr>\n",
       "      <th>Couleur</th>\n",
       "      <td>0.244576</td>\n",
       "      <td>1.0</td>\n",
       "      <td>14.173164</td>\n",
       "      <td>0.000787</td>\n",
       "      <td>***</td>\n",
       "    </tr>\n",
       "    <tr>\n",
       "      <th>Origine</th>\n",
       "      <td>0.009609</td>\n",
       "      <td>1.0</td>\n",
       "      <td>0.556814</td>\n",
       "      <td>0.461766</td>\n",
       "      <td></td>\n",
       "    </tr>\n",
       "    <tr>\n",
       "      <th>Couleur:Origine</th>\n",
       "      <td>0.004144</td>\n",
       "      <td>1.0</td>\n",
       "      <td>0.240159</td>\n",
       "      <td>0.627909</td>\n",
       "      <td></td>\n",
       "    </tr>\n",
       "    <tr>\n",
       "      <th>AcTot</th>\n",
       "      <td>0.295320</td>\n",
       "      <td>1.0</td>\n",
       "      <td>17.113778</td>\n",
       "      <td>0.000291</td>\n",
       "      <td>***</td>\n",
       "    </tr>\n",
       "    <tr>\n",
       "      <th>Couleur:AcTot</th>\n",
       "      <td>0.008691</td>\n",
       "      <td>1.0</td>\n",
       "      <td>0.503651</td>\n",
       "      <td>0.483769</td>\n",
       "      <td></td>\n",
       "    </tr>\n",
       "    <tr>\n",
       "      <th>AcTot:Origine</th>\n",
       "      <td>0.004367</td>\n",
       "      <td>1.0</td>\n",
       "      <td>0.253065</td>\n",
       "      <td>0.618860</td>\n",
       "      <td></td>\n",
       "    </tr>\n",
       "    <tr>\n",
       "      <th>Couleur:AcTot:Origine</th>\n",
       "      <td>0.002144</td>\n",
       "      <td>1.0</td>\n",
       "      <td>0.124252</td>\n",
       "      <td>0.727107</td>\n",
       "      <td></td>\n",
       "    </tr>\n",
       "    <tr>\n",
       "      <th>Residual</th>\n",
       "      <td>0.483176</td>\n",
       "      <td>28.0</td>\n",
       "      <td>NaN</td>\n",
       "      <td>NaN</td>\n",
       "      <td></td>\n",
       "    </tr>\n",
       "  </tbody>\n",
       "</table>\n",
       "</div>"
      ],
      "text/plain": [
       "                         sum_sq    df          F    PR(>F) stars\n",
       "Couleur                0.244576   1.0  14.173164  0.000787   ***\n",
       "Origine                0.009609   1.0   0.556814  0.461766      \n",
       "Couleur:Origine        0.004144   1.0   0.240159  0.627909      \n",
       "AcTot                  0.295320   1.0  17.113778  0.000291   ***\n",
       "Couleur:AcTot          0.008691   1.0   0.503651  0.483769      \n",
       "AcTot:Origine          0.004367   1.0   0.253065  0.618860      \n",
       "Couleur:AcTot:Origine  0.002144   1.0   0.124252  0.727107      \n",
       "Residual               0.483176  28.0        NaN       NaN      "
      ]
     },
     "execution_count": 25,
     "metadata": {},
     "output_type": "execute_result"
    }
   ],
   "source": [
    "stars(anova_table2)"
   ]
  },
  {
   "cell_type": "markdown",
   "id": "59cbea09",
   "metadata": {},
   "source": [
    "**Answer :** Type I and II tests only select the covariate AcTot and the factor Couleur"
   ]
  },
  {
   "cell_type": "markdown",
   "id": "163862a3",
   "metadata": {},
   "source": [
    "### Question 3. Compute the regression model of the pH on AcTot and Couleur (do not consider interaction between AcTot and Couleur). Display a “summary” of this model and discuss the outputs"
   ]
  },
  {
   "cell_type": "code",
   "execution_count": 26,
   "id": "8d552ad0",
   "metadata": {},
   "outputs": [],
   "source": [
    "model_ancovaWI = ols('pH ~ AcTot + Couleur', df).fit()"
   ]
  },
  {
   "cell_type": "code",
   "execution_count": 27,
   "id": "a7738e0d",
   "metadata": {},
   "outputs": [
    {
     "name": "stdout",
     "output_type": "stream",
     "text": [
      "                            OLS Regression Results                            \n",
      "==============================================================================\n",
      "Dep. Variable:                     pH   R-squared:                       0.761\n",
      "Model:                            OLS   Adj. R-squared:                  0.747\n",
      "Method:                 Least Squares   F-statistic:                     52.68\n",
      "Date:                Mon, 28 Nov 2022   Prob (F-statistic):           5.36e-11\n",
      "Time:                        18:58:15   Log-Likelihood:                 25.694\n",
      "No. Observations:                  36   AIC:                            -45.39\n",
      "Df Residuals:                      33   BIC:                            -40.64\n",
      "Df Model:                           2                                         \n",
      "Covariance Type:            nonrobust                                         \n",
      "====================================================================================\n",
      "                       coef    std err          t      P>|t|      [0.025      0.975]\n",
      "------------------------------------------------------------------------------------\n",
      "Intercept            3.9101      0.183     21.407      0.000       3.539       4.282\n",
      "Couleur[T.Rouge]     0.2297      0.051      4.509      0.000       0.126       0.333\n",
      "AcTot               -0.0093      0.002     -4.823      0.000      -0.013      -0.005\n",
      "==============================================================================\n",
      "Omnibus:                        0.726   Durbin-Watson:                   2.042\n",
      "Prob(Omnibus):                  0.696   Jarque-Bera (JB):                0.310\n",
      "Skew:                           0.225   Prob(JB):                        0.856\n",
      "Kurtosis:                       3.069   Cond. No.                         785.\n",
      "==============================================================================\n",
      "\n",
      "Notes:\n",
      "[1] Standard Errors assume that the covariance matrix of the errors is correctly specified.\n"
     ]
    }
   ],
   "source": [
    "print(model_ancovaWI.summary())"
   ]
  },
  {
   "cell_type": "markdown",
   "id": "c175ebe5",
   "metadata": {},
   "source": [
    "## Part 3. What about the full dataset ?\n",
    "\n",
    "### Question 1. Compute the complete model, i.e. the linear regression of the pH over all the others variable."
   ]
  },
  {
   "cell_type": "code",
   "execution_count": 28,
   "id": "2fe09696",
   "metadata": {},
   "outputs": [],
   "source": [
    "all_notpH = [index for index in df.columns if index != 'pH']"
   ]
  },
  {
   "cell_type": "code",
   "execution_count": 29,
   "id": "ab0d0e3a",
   "metadata": {},
   "outputs": [
    {
     "data": {
      "text/plain": [
       "['Origine',\n",
       " 'Couleur',\n",
       " 'Alcool',\n",
       " 'AcTot',\n",
       " 'Tartrique',\n",
       " 'Malique',\n",
       " 'Citrique',\n",
       " 'Acetique',\n",
       " 'Lactique']"
      ]
     },
     "execution_count": 29,
     "metadata": {},
     "output_type": "execute_result"
    }
   ],
   "source": [
    "all_notpH"
   ]
  },
  {
   "cell_type": "code",
   "execution_count": 30,
   "id": "71ae2147",
   "metadata": {},
   "outputs": [],
   "source": [
    "str_all = all_notpH[0]\n",
    "for ind in all_notpH[1:]:\n",
    "    str_all += ' + '\n",
    "    str_all += ind"
   ]
  },
  {
   "cell_type": "code",
   "execution_count": 31,
   "id": "5097623d",
   "metadata": {},
   "outputs": [
    {
     "data": {
      "text/plain": [
       "'Origine + Couleur + Alcool + AcTot + Tartrique + Malique + Citrique + Acetique + Lactique'"
      ]
     },
     "execution_count": 31,
     "metadata": {},
     "output_type": "execute_result"
    }
   ],
   "source": [
    "str_all"
   ]
  },
  {
   "cell_type": "code",
   "execution_count": 32,
   "id": "75338095",
   "metadata": {},
   "outputs": [],
   "source": [
    "model_all = ols('pH ~ '+str_all, df).fit()"
   ]
  },
  {
   "cell_type": "code",
   "execution_count": 33,
   "id": "8a9faeef",
   "metadata": {},
   "outputs": [
    {
     "name": "stdout",
     "output_type": "stream",
     "text": [
      "                            OLS Regression Results                            \n",
      "==============================================================================\n",
      "Dep. Variable:                     pH   R-squared:                       0.920\n",
      "Model:                            OLS   Adj. R-squared:                  0.892\n",
      "Method:                 Least Squares   F-statistic:                     33.13\n",
      "Date:                Mon, 28 Nov 2022   Prob (F-statistic):           5.12e-12\n",
      "Time:                        18:58:15   Log-Likelihood:                 45.313\n",
      "No. Observations:                  36   AIC:                            -70.63\n",
      "Df Residuals:                      26   BIC:                            -54.79\n",
      "Df Model:                           9                                         \n",
      "Covariance Type:            nonrobust                                         \n",
      "========================================================================================\n",
      "                           coef    std err          t      P>|t|      [0.025      0.975]\n",
      "----------------------------------------------------------------------------------------\n",
      "Intercept                4.0403      0.289     14.004      0.000       3.447       4.633\n",
      "Origine[T.Bourgogne]     0.0677      0.056      1.211      0.237      -0.047       0.183\n",
      "Couleur[T.Rouge]         0.2812      0.052      5.407      0.000       0.174       0.388\n",
      "Alcool                  -0.0052      0.018     -0.285      0.778      -0.043       0.033\n",
      "AcTot                   -0.0214      0.003     -6.518      0.000      -0.028      -0.015\n",
      "Tartrique                0.0051      0.004      1.224      0.232      -0.003       0.014\n",
      "Malique                  0.0188      0.004      4.289      0.000       0.010       0.028\n",
      "Citrique                 0.0218      0.018      1.226      0.231      -0.015       0.058\n",
      "Acetique                 0.0141      0.006      2.529      0.018       0.003       0.026\n",
      "Lactique                 0.0124      0.003      4.509      0.000       0.007       0.018\n",
      "==============================================================================\n",
      "Omnibus:                        4.125   Durbin-Watson:                   1.830\n",
      "Prob(Omnibus):                  0.127   Jarque-Bera (JB):                3.579\n",
      "Skew:                           0.196   Prob(JB):                        0.167\n",
      "Kurtosis:                       4.494   Cond. No.                     2.10e+03\n",
      "==============================================================================\n",
      "\n",
      "Notes:\n",
      "[1] Standard Errors assume that the covariance matrix of the errors is correctly specified.\n",
      "[2] The condition number is large, 2.1e+03. This might indicate that there are\n",
      "strong multicollinearity or other numerical problems.\n"
     ]
    }
   ],
   "source": [
    "print(model_all.summary())"
   ]
  },
  {
   "cell_type": "markdown",
   "id": "1e464137",
   "metadata": {},
   "source": [
    "### Question 2. Which model is selected with the test of type I. Compute this model."
   ]
  },
  {
   "cell_type": "code",
   "execution_count": 34,
   "id": "8d5af19c",
   "metadata": {},
   "outputs": [
    {
     "data": {
      "text/html": [
       "<div>\n",
       "<style scoped>\n",
       "    .dataframe tbody tr th:only-of-type {\n",
       "        vertical-align: middle;\n",
       "    }\n",
       "\n",
       "    .dataframe tbody tr th {\n",
       "        vertical-align: top;\n",
       "    }\n",
       "\n",
       "    .dataframe thead th {\n",
       "        text-align: right;\n",
       "    }\n",
       "</style>\n",
       "<table border=\"1\" class=\"dataframe\">\n",
       "  <thead>\n",
       "    <tr style=\"text-align: right;\">\n",
       "      <th></th>\n",
       "      <th>df</th>\n",
       "      <th>sum_sq</th>\n",
       "      <th>mean_sq</th>\n",
       "      <th>F</th>\n",
       "      <th>PR(&gt;F)</th>\n",
       "      <th>stars</th>\n",
       "    </tr>\n",
       "  </thead>\n",
       "  <tbody>\n",
       "    <tr>\n",
       "      <th>Origine</th>\n",
       "      <td>1.0</td>\n",
       "      <td>0.042025</td>\n",
       "      <td>0.042025</td>\n",
       "      <td>6.425876</td>\n",
       "      <td>1.760488e-02</td>\n",
       "      <td>*</td>\n",
       "    </tr>\n",
       "    <tr>\n",
       "      <th>Couleur</th>\n",
       "      <td>1.0</td>\n",
       "      <td>1.258136</td>\n",
       "      <td>1.258136</td>\n",
       "      <td>192.376602</td>\n",
       "      <td>1.587472e-13</td>\n",
       "      <td>***</td>\n",
       "    </tr>\n",
       "    <tr>\n",
       "      <th>Alcool</th>\n",
       "      <td>1.0</td>\n",
       "      <td>0.081234</td>\n",
       "      <td>0.081234</td>\n",
       "      <td>12.421225</td>\n",
       "      <td>1.594278e-03</td>\n",
       "      <td>**</td>\n",
       "    </tr>\n",
       "    <tr>\n",
       "      <th>AcTot</th>\n",
       "      <td>1.0</td>\n",
       "      <td>0.252995</td>\n",
       "      <td>0.252995</td>\n",
       "      <td>38.684487</td>\n",
       "      <td>1.400429e-06</td>\n",
       "      <td>***</td>\n",
       "    </tr>\n",
       "    <tr>\n",
       "      <th>Tartrique</th>\n",
       "      <td>1.0</td>\n",
       "      <td>0.135794</td>\n",
       "      <td>0.135794</td>\n",
       "      <td>20.763668</td>\n",
       "      <td>1.083164e-04</td>\n",
       "      <td>***</td>\n",
       "    </tr>\n",
       "    <tr>\n",
       "      <th>Malique</th>\n",
       "      <td>1.0</td>\n",
       "      <td>0.031711</td>\n",
       "      <td>0.031711</td>\n",
       "      <td>4.848737</td>\n",
       "      <td>3.673758e-02</td>\n",
       "      <td>*</td>\n",
       "    </tr>\n",
       "    <tr>\n",
       "      <th>Citrique</th>\n",
       "      <td>1.0</td>\n",
       "      <td>0.000305</td>\n",
       "      <td>0.000305</td>\n",
       "      <td>0.046571</td>\n",
       "      <td>8.308253e-01</td>\n",
       "      <td></td>\n",
       "    </tr>\n",
       "    <tr>\n",
       "      <th>Acetique</th>\n",
       "      <td>1.0</td>\n",
       "      <td>0.015045</td>\n",
       "      <td>0.015045</td>\n",
       "      <td>2.300439</td>\n",
       "      <td>1.414030e-01</td>\n",
       "      <td></td>\n",
       "    </tr>\n",
       "    <tr>\n",
       "      <th>Lactique</th>\n",
       "      <td>1.0</td>\n",
       "      <td>0.132992</td>\n",
       "      <td>0.132992</td>\n",
       "      <td>20.335235</td>\n",
       "      <td>1.226999e-04</td>\n",
       "      <td>***</td>\n",
       "    </tr>\n",
       "    <tr>\n",
       "      <th>Residual</th>\n",
       "      <td>26.0</td>\n",
       "      <td>0.170039</td>\n",
       "      <td>0.006540</td>\n",
       "      <td>NaN</td>\n",
       "      <td>NaN</td>\n",
       "      <td></td>\n",
       "    </tr>\n",
       "  </tbody>\n",
       "</table>\n",
       "</div>"
      ],
      "text/plain": [
       "             df    sum_sq   mean_sq           F        PR(>F) stars\n",
       "Origine     1.0  0.042025  0.042025    6.425876  1.760488e-02     *\n",
       "Couleur     1.0  1.258136  1.258136  192.376602  1.587472e-13   ***\n",
       "Alcool      1.0  0.081234  0.081234   12.421225  1.594278e-03    **\n",
       "AcTot       1.0  0.252995  0.252995   38.684487  1.400429e-06   ***\n",
       "Tartrique   1.0  0.135794  0.135794   20.763668  1.083164e-04   ***\n",
       "Malique     1.0  0.031711  0.031711    4.848737  3.673758e-02     *\n",
       "Citrique    1.0  0.000305  0.000305    0.046571  8.308253e-01      \n",
       "Acetique    1.0  0.015045  0.015045    2.300439  1.414030e-01      \n",
       "Lactique    1.0  0.132992  0.132992   20.335235  1.226999e-04   ***\n",
       "Residual   26.0  0.170039  0.006540         NaN           NaN      "
      ]
     },
     "execution_count": 34,
     "metadata": {},
     "output_type": "execute_result"
    }
   ],
   "source": [
    "anova_table1 = sm.stats.anova_lm(model_all, typ=1)\n",
    "stars(anova_table1)"
   ]
  },
  {
   "cell_type": "code",
   "execution_count": 35,
   "id": "5d02ba79",
   "metadata": {},
   "outputs": [
    {
     "name": "stdout",
     "output_type": "stream",
     "text": [
      "                            OLS Regression Results                            \n",
      "==============================================================================\n",
      "Dep. Variable:                     pH   R-squared:                       0.900\n",
      "Model:                            OLS   Adj. R-squared:                  0.874\n",
      "Method:                 Least Squares   F-statistic:                     35.80\n",
      "Date:                Mon, 28 Nov 2022   Prob (F-statistic):           2.48e-12\n",
      "Time:                        18:58:15   Log-Likelihood:                 41.251\n",
      "No. Observations:                  36   AIC:                            -66.50\n",
      "Df Residuals:                      28   BIC:                            -53.83\n",
      "Df Model:                           7                                         \n",
      "Covariance Type:            nonrobust                                         \n",
      "========================================================================================\n",
      "                           coef    std err          t      P>|t|      [0.025      0.975]\n",
      "----------------------------------------------------------------------------------------\n",
      "Intercept                4.0963      0.295     13.885      0.000       3.492       4.701\n",
      "Origine[T.Bourgogne]     0.0367      0.057      0.643      0.526      -0.080       0.154\n",
      "Couleur[T.Rouge]         0.2378      0.048      4.932      0.000       0.139       0.337\n",
      "Alcool                   0.0078      0.014      0.566      0.576      -0.020       0.036\n",
      "AcTot                   -0.0175      0.003     -5.666      0.000      -0.024      -0.011\n",
      "Tartrique                0.0007      0.004      0.161      0.873      -0.008       0.009\n",
      "Malique                  0.0141      0.004      3.674      0.001       0.006       0.022\n",
      "Lactique                 0.0107      0.003      3.720      0.001       0.005       0.017\n",
      "==============================================================================\n",
      "Omnibus:                        0.804   Durbin-Watson:                   1.834\n",
      "Prob(Omnibus):                  0.669   Jarque-Bera (JB):                0.311\n",
      "Skew:                          -0.219   Prob(JB):                        0.856\n",
      "Kurtosis:                       3.127   Cond. No.                     1.97e+03\n",
      "==============================================================================\n",
      "\n",
      "Notes:\n",
      "[1] Standard Errors assume that the covariance matrix of the errors is correctly specified.\n",
      "[2] The condition number is large, 1.97e+03. This might indicate that there are\n",
      "strong multicollinearity or other numerical problems.\n"
     ]
    }
   ],
   "source": [
    "modanov1 = ols('pH ~  Origine + Couleur + Alcool + AcTot + Tartrique + Malique + Lactique', df).fit()\n",
    "print(modanov1.summary())"
   ]
  },
  {
   "cell_type": "markdown",
   "id": "364e8108",
   "metadata": {},
   "source": [
    "### Question 3. Which model is selected with the test of type II. Compute this model."
   ]
  },
  {
   "cell_type": "code",
   "execution_count": 36,
   "id": "870879e5",
   "metadata": {},
   "outputs": [
    {
     "data": {
      "text/html": [
       "<div>\n",
       "<style scoped>\n",
       "    .dataframe tbody tr th:only-of-type {\n",
       "        vertical-align: middle;\n",
       "    }\n",
       "\n",
       "    .dataframe tbody tr th {\n",
       "        vertical-align: top;\n",
       "    }\n",
       "\n",
       "    .dataframe thead th {\n",
       "        text-align: right;\n",
       "    }\n",
       "</style>\n",
       "<table border=\"1\" class=\"dataframe\">\n",
       "  <thead>\n",
       "    <tr style=\"text-align: right;\">\n",
       "      <th></th>\n",
       "      <th>sum_sq</th>\n",
       "      <th>df</th>\n",
       "      <th>F</th>\n",
       "      <th>PR(&gt;F)</th>\n",
       "      <th>stars</th>\n",
       "    </tr>\n",
       "  </thead>\n",
       "  <tbody>\n",
       "    <tr>\n",
       "      <th>Origine</th>\n",
       "      <td>0.009593</td>\n",
       "      <td>1.0</td>\n",
       "      <td>1.466833</td>\n",
       "      <td>2.367400e-01</td>\n",
       "      <td></td>\n",
       "    </tr>\n",
       "    <tr>\n",
       "      <th>Couleur</th>\n",
       "      <td>0.191182</td>\n",
       "      <td>1.0</td>\n",
       "      <td>29.232901</td>\n",
       "      <td>1.152445e-05</td>\n",
       "      <td>***</td>\n",
       "    </tr>\n",
       "    <tr>\n",
       "      <th>Alcool</th>\n",
       "      <td>0.000530</td>\n",
       "      <td>1.0</td>\n",
       "      <td>0.080987</td>\n",
       "      <td>7.782193e-01</td>\n",
       "      <td></td>\n",
       "    </tr>\n",
       "    <tr>\n",
       "      <th>AcTot</th>\n",
       "      <td>0.277870</td>\n",
       "      <td>1.0</td>\n",
       "      <td>42.488003</td>\n",
       "      <td>6.554866e-07</td>\n",
       "      <td>***</td>\n",
       "    </tr>\n",
       "    <tr>\n",
       "      <th>Tartrique</th>\n",
       "      <td>0.009793</td>\n",
       "      <td>1.0</td>\n",
       "      <td>1.497459</td>\n",
       "      <td>2.320373e-01</td>\n",
       "      <td></td>\n",
       "    </tr>\n",
       "    <tr>\n",
       "      <th>Malique</th>\n",
       "      <td>0.120321</td>\n",
       "      <td>1.0</td>\n",
       "      <td>18.397741</td>\n",
       "      <td>2.191476e-04</td>\n",
       "      <td>***</td>\n",
       "    </tr>\n",
       "    <tr>\n",
       "      <th>Citrique</th>\n",
       "      <td>0.009836</td>\n",
       "      <td>1.0</td>\n",
       "      <td>1.503926</td>\n",
       "      <td>2.310593e-01</td>\n",
       "      <td></td>\n",
       "    </tr>\n",
       "    <tr>\n",
       "      <th>Acetique</th>\n",
       "      <td>0.041836</td>\n",
       "      <td>1.0</td>\n",
       "      <td>6.396956</td>\n",
       "      <td>1.783512e-02</td>\n",
       "      <td>*</td>\n",
       "    </tr>\n",
       "    <tr>\n",
       "      <th>Lactique</th>\n",
       "      <td>0.132992</td>\n",
       "      <td>1.0</td>\n",
       "      <td>20.335235</td>\n",
       "      <td>1.226999e-04</td>\n",
       "      <td>***</td>\n",
       "    </tr>\n",
       "    <tr>\n",
       "      <th>Residual</th>\n",
       "      <td>0.170039</td>\n",
       "      <td>26.0</td>\n",
       "      <td>NaN</td>\n",
       "      <td>NaN</td>\n",
       "      <td></td>\n",
       "    </tr>\n",
       "  </tbody>\n",
       "</table>\n",
       "</div>"
      ],
      "text/plain": [
       "             sum_sq    df          F        PR(>F) stars\n",
       "Origine    0.009593   1.0   1.466833  2.367400e-01      \n",
       "Couleur    0.191182   1.0  29.232901  1.152445e-05   ***\n",
       "Alcool     0.000530   1.0   0.080987  7.782193e-01      \n",
       "AcTot      0.277870   1.0  42.488003  6.554866e-07   ***\n",
       "Tartrique  0.009793   1.0   1.497459  2.320373e-01      \n",
       "Malique    0.120321   1.0  18.397741  2.191476e-04   ***\n",
       "Citrique   0.009836   1.0   1.503926  2.310593e-01      \n",
       "Acetique   0.041836   1.0   6.396956  1.783512e-02     *\n",
       "Lactique   0.132992   1.0  20.335235  1.226999e-04   ***\n",
       "Residual   0.170039  26.0        NaN           NaN      "
      ]
     },
     "execution_count": 36,
     "metadata": {},
     "output_type": "execute_result"
    }
   ],
   "source": [
    "anova_table2 = sm.stats.anova_lm(model_all, typ=2)\n",
    "stars(anova_table2)"
   ]
  },
  {
   "cell_type": "code",
   "execution_count": 37,
   "id": "e6465a04",
   "metadata": {},
   "outputs": [
    {
     "name": "stdout",
     "output_type": "stream",
     "text": [
      "                            OLS Regression Results                            \n",
      "==============================================================================\n",
      "Dep. Variable:                     pH   R-squared:                       0.893\n",
      "Model:                            OLS   Adj. R-squared:                  0.876\n",
      "Method:                 Least Squares   F-statistic:                     50.32\n",
      "Date:                Mon, 28 Nov 2022   Prob (F-statistic):           1.09e-13\n",
      "Time:                        18:58:15   Log-Likelihood:                 40.201\n",
      "No. Observations:                  36   AIC:                            -68.40\n",
      "Df Residuals:                      30   BIC:                            -58.90\n",
      "Df Model:                           5                                         \n",
      "Covariance Type:            nonrobust                                         \n",
      "====================================================================================\n",
      "                       coef    std err          t      P>|t|      [0.025      0.975]\n",
      "------------------------------------------------------------------------------------\n",
      "Intercept            4.0282      0.175     23.008      0.000       3.671       4.386\n",
      "Couleur[T.Rouge]     0.2363      0.046      5.109      0.000       0.142       0.331\n",
      "AcTot               -0.0159      0.002     -7.822      0.000      -0.020      -0.012\n",
      "Acetique             0.0041      0.004      0.922      0.364      -0.005       0.013\n",
      "Malique              0.0136      0.003      4.832      0.000       0.008       0.019\n",
      "Lactique             0.0110      0.002      4.834      0.000       0.006       0.016\n",
      "==============================================================================\n",
      "Omnibus:                        4.920   Durbin-Watson:                   1.577\n",
      "Prob(Omnibus):                  0.085   Jarque-Bera (JB):                3.669\n",
      "Skew:                          -0.514   Prob(JB):                        0.160\n",
      "Kurtosis:                       4.179   Cond. No.                     1.11e+03\n",
      "==============================================================================\n",
      "\n",
      "Notes:\n",
      "[1] Standard Errors assume that the covariance matrix of the errors is correctly specified.\n",
      "[2] The condition number is large, 1.11e+03. This might indicate that there are\n",
      "strong multicollinearity or other numerical problems.\n"
     ]
    }
   ],
   "source": [
    "modanov2 = ols('pH ~  Couleur + AcTot + Acetique + Malique + Lactique', df).fit()\n",
    "print(modanov2.summary())"
   ]
  },
  {
   "cell_type": "markdown",
   "id": "e84681ad",
   "metadata": {},
   "source": [
    "### Question 4. We propose the above model ‘modB’. Compare its AIC with the AIC of the 4 previous model (Part 1- Q1, Part 2-Q3, Part 3-Q2, Part 3- Q3). Which model do you prefer?"
   ]
  },
  {
   "cell_type": "code",
   "execution_count": 38,
   "id": "79023099",
   "metadata": {},
   "outputs": [],
   "source": [
    "modB = ols('pH ~ Origine + Couleur + AcTot  + Malique  + Acetique + Lactique', df).fit()"
   ]
  },
  {
   "cell_type": "code",
   "execution_count": 39,
   "id": "ed7d9a7a",
   "metadata": {},
   "outputs": [
    {
     "name": "stdout",
     "output_type": "stream",
     "text": [
      "                            OLS Regression Results                            \n",
      "==============================================================================\n",
      "Dep. Variable:                     pH   R-squared:                       0.911\n",
      "Model:                            OLS   Adj. R-squared:                  0.893\n",
      "Method:                 Least Squares   F-statistic:                     49.51\n",
      "Date:                Mon, 28 Nov 2022   Prob (F-statistic):           6.22e-14\n",
      "Time:                        18:58:15   Log-Likelihood:                 43.449\n",
      "No. Observations:                  36   AIC:                            -72.90\n",
      "Df Residuals:                      29   BIC:                            -61.81\n",
      "Df Model:                           6                                         \n",
      "Covariance Type:            nonrobust                                         \n",
      "========================================================================================\n",
      "                           coef    std err          t      P>|t|      [0.025      0.975]\n",
      "----------------------------------------------------------------------------------------\n",
      "Intercept                4.1504      0.171     24.338      0.000       3.802       4.499\n",
      "Origine[T.Bourgogne]     0.0894      0.037      2.394      0.023       0.013       0.166\n",
      "Couleur[T.Rouge]         0.2346      0.043      5.457      0.000       0.147       0.323\n",
      "AcTot                   -0.0190      0.002     -8.280      0.000      -0.024      -0.014\n",
      "Malique                  0.0164      0.003      5.724      0.000       0.011       0.022\n",
      "Acetique                 0.0097      0.005      2.041      0.050   -2.04e-05       0.019\n",
      "Lactique                 0.0101      0.002      4.706      0.000       0.006       0.015\n",
      "==============================================================================\n",
      "Omnibus:                        5.477   Durbin-Watson:                   1.681\n",
      "Prob(Omnibus):                  0.065   Jarque-Bera (JB):                5.183\n",
      "Skew:                          -0.384   Prob(JB):                       0.0749\n",
      "Kurtosis:                       4.693   Cond. No.                     1.16e+03\n",
      "==============================================================================\n",
      "\n",
      "Notes:\n",
      "[1] Standard Errors assume that the covariance matrix of the errors is correctly specified.\n",
      "[2] The condition number is large, 1.16e+03. This might indicate that there are\n",
      "strong multicollinearity or other numerical problems.\n"
     ]
    }
   ],
   "source": [
    "print(modB.summary())"
   ]
  },
  {
   "cell_type": "markdown",
   "id": "0d354ec8",
   "metadata": {},
   "source": [
    "### Question 5. Does the postulates are validated. What about the outliers?"
   ]
  },
  {
   "cell_type": "code",
   "execution_count": 40,
   "id": "933903b2",
   "metadata": {},
   "outputs": [],
   "source": [
    "list_names = ['modanov1', 'modanov2', 'model_ancova', 'model_ancovaWI', 'modB']\n",
    "list_models = [modanov1, modanov2, model_ancova, model_ancovaWI, modB]"
   ]
  },
  {
   "cell_type": "code",
   "execution_count": 41,
   "id": "02d14f9e",
   "metadata": {},
   "outputs": [
    {
     "name": "stdout",
     "output_type": "stream",
     "text": [
      "modanov1 -66.5026529123737\n",
      "modanov2 -68.40277896353514\n",
      "model_ancova -37.02859626767578\n",
      "model_ancovaWI -45.38752718533438\n",
      "modB -72.89738201182924\n"
     ]
    }
   ],
   "source": [
    "for (name,mod) in zip(list_names, list_models):\n",
    "    print(name, mod.aic)"
   ]
  }
 ],
 "metadata": {
  "kernelspec": {
   "display_name": "regression",
   "language": "python",
   "name": "regression"
  },
  "language_info": {
   "codemirror_mode": {
    "name": "ipython",
    "version": 3
   },
   "file_extension": ".py",
   "mimetype": "text/x-python",
   "name": "python",
   "nbconvert_exporter": "python",
   "pygments_lexer": "ipython3",
   "version": "3.6.9"
  }
 },
 "nbformat": 4,
 "nbformat_minor": 5
}
