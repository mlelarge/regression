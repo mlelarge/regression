{
 "cells": [
  {
   "cell_type": "markdown",
   "id": "921e26f4",
   "metadata": {},
   "source": [
    "# PC4 - Cepages dataset\n",
    "\n",
    "cours [MAP 535](https://moodle.polytechnique.fr/course/view.php?id=14763): Regression de Karim Lounici\n",
    "\n",
    "auteur de ce notebook python : Marc Lelarge\n",
    "\n",
    "We consider the dataset “CepagesB.csv” of 36 observations and 10 variables. We want to explain Y=pH with respect to the others variables.\n",
    "\n",
    "- pH : pH of the wine.\n",
    "- Origine: factor which admits I=2 modalities : Bordeaux and Bourgogne.\n",
    "- Couleur : factor which admits I=2 modalities : Blanc and Rouge.\n",
    "- Alcool : It is the alcohol content of the wine.\n",
    "- Malique : Malic acid that reflects greenness / biting wine (green apple).\n",
    "- Tartrique : Tartaric acid that reflects hardness / structure of the wine (the acid most present in the grapes).\n",
    "- Citrique : Citric acid that reflects freshness of the wine (lemony taste).\n",
    "- Acetique : Acetic acid is a natural organic acid, the main constituent of the volatile acidity of a wine.\n",
    "- Lactique : Lactic acid is an organic acid that plays a role in various biochemical processes.\n",
    "- AcTot : Total acidity."
   ]
  },
  {
   "cell_type": "code",
   "execution_count": null,
   "id": "7df311ff",
   "metadata": {},
   "outputs": [],
   "source": [
    "import pandas as pd\n",
    "import seaborn as sns\n",
    "import statsmodels.api as sm\n",
    "import numpy as np\n",
    "import matplotlib.pyplot as plt\n",
    "import statsmodels.api as sm\n",
    "#from patsy import dmatrices"
   ]
  },
  {
   "cell_type": "markdown",
   "id": "b7a37ba4",
   "metadata": {},
   "source": [
    "## Part 1. Descriptive analysis.\n",
    "\n",
    "### Question 1. Check the nature of the dataset and make the necessary changes."
   ]
  },
  {
   "cell_type": "code",
   "execution_count": null,
   "id": "8fe34f3b",
   "metadata": {},
   "outputs": [],
   "source": [
    "df = pd.read_csv('./CepagesB.csv', sep=\";\")"
   ]
  },
  {
   "cell_type": "code",
   "execution_count": null,
   "id": "2d7ce445",
   "metadata": {},
   "outputs": [],
   "source": []
  },
  {
   "cell_type": "markdown",
   "id": "6e2125e6",
   "metadata": {},
   "source": [
    "### Question 2. Display the Table of counts according to Color and Origin"
   ]
  },
  {
   "cell_type": "code",
   "execution_count": null,
   "id": "c7f10b42",
   "metadata": {},
   "outputs": [],
   "source": []
  },
  {
   "cell_type": "markdown",
   "id": "d3b676d0",
   "metadata": {},
   "source": [
    "### Question 3. Display the table of the average pH according to Couleur modalities. Display the table of the average pH according to Couleur modalities and Origine modalities."
   ]
  },
  {
   "cell_type": "code",
   "execution_count": null,
   "id": "fc5f6911",
   "metadata": {},
   "outputs": [],
   "source": []
  },
  {
   "cell_type": "markdown",
   "id": "0c43b160",
   "metadata": {},
   "source": [
    "### Question 4. Plot the regression lines of pH over AcTot for the different modalities of Couleur. Display boxplots for pH based on color modalities. Comments\n",
    "\n",
    "hint: [seaborn.lmplot](https://seaborn.pydata.org/generated/seaborn.lmplot.html)"
   ]
  },
  {
   "cell_type": "code",
   "execution_count": null,
   "id": "bfa93191",
   "metadata": {},
   "outputs": [],
   "source": []
  },
  {
   "cell_type": "code",
   "execution_count": null,
   "id": "3a1d03f5",
   "metadata": {},
   "outputs": [],
   "source": []
  },
  {
   "cell_type": "markdown",
   "id": "d8873bf1",
   "metadata": {},
   "source": [
    "### Question 5. Plot the regression lines of ph over AcTot for the different modalities of Origine. Display boxplots for pH based on color modalities. Comments"
   ]
  },
  {
   "cell_type": "code",
   "execution_count": null,
   "id": "109fcc81",
   "metadata": {},
   "outputs": [],
   "source": []
  },
  {
   "cell_type": "code",
   "execution_count": null,
   "id": "d6e29381",
   "metadata": {},
   "outputs": [],
   "source": []
  },
  {
   "cell_type": "markdown",
   "id": "72056098",
   "metadata": {},
   "source": [
    "## Part 2. Ancova 2 factors model\n",
    "\n",
    "We want to explain the pH as a function of the AcTot and Couleur (consider interaction between AcTot and Couleur).\n",
    "\n",
    "### Question 1. Compute this Ancova 2 factor Model with default constraint\n",
    "\n",
    "hint: [anova_lm](https://www.statsmodels.org/dev/generated/statsmodels.stats.anova.anova_lm.html)"
   ]
  },
  {
   "cell_type": "markdown",
   "id": "3dc2a89c",
   "metadata": {},
   "source": [
    "Useful blog: [ANOVA using Python (with examples)](https://www.reneshbedre.com/blog/anova.html)"
   ]
  },
  {
   "cell_type": "code",
   "execution_count": null,
   "id": "42ff123f",
   "metadata": {},
   "outputs": [],
   "source": [
    "from statsmodels.formula.api import ols"
   ]
  },
  {
   "cell_type": "code",
   "execution_count": null,
   "id": "0dd5d517",
   "metadata": {},
   "outputs": [],
   "source": []
  },
  {
   "cell_type": "markdown",
   "id": "1845a98a",
   "metadata": {},
   "source": [
    "### Question 2. Test the influence of the regressor with “anova()” and “Anova()”. Comments."
   ]
  },
  {
   "cell_type": "code",
   "execution_count": null,
   "id": "bf16dbeb",
   "metadata": {},
   "outputs": [],
   "source": []
  },
  {
   "cell_type": "code",
   "execution_count": null,
   "id": "9609e433",
   "metadata": {},
   "outputs": [],
   "source": []
  },
  {
   "cell_type": "markdown",
   "id": "1d6e6377",
   "metadata": {},
   "source": [
    "### Question 3. Compute the regression model of the pH on AcTot and Couleur (do not consider interaction between AcTot and Couleur). Display a “summary” of this model and discuss the outputs"
   ]
  },
  {
   "cell_type": "code",
   "execution_count": null,
   "id": "07a30644",
   "metadata": {},
   "outputs": [],
   "source": []
  },
  {
   "cell_type": "markdown",
   "id": "bd146022",
   "metadata": {},
   "source": [
    "## Part 3. What about the full dataset ?\n",
    "\n",
    "### Question 1. Compute the complet model, i.e. the linear regression of the pH over all the others variable."
   ]
  },
  {
   "cell_type": "code",
   "execution_count": null,
   "id": "368f9ba1",
   "metadata": {},
   "outputs": [],
   "source": []
  },
  {
   "cell_type": "markdown",
   "id": "96523060",
   "metadata": {},
   "source": [
    "### Question 2. Which model is selected with the test of type I. Compute this model."
   ]
  },
  {
   "cell_type": "code",
   "execution_count": null,
   "id": "07feedbc",
   "metadata": {},
   "outputs": [],
   "source": []
  },
  {
   "cell_type": "markdown",
   "id": "03bf2e62",
   "metadata": {},
   "source": [
    "### Question 3. Which model is selected with the test of type II. Compute this model."
   ]
  },
  {
   "cell_type": "code",
   "execution_count": null,
   "id": "ef73e2e8",
   "metadata": {},
   "outputs": [],
   "source": []
  },
  {
   "cell_type": "markdown",
   "id": "d1a6b670",
   "metadata": {},
   "source": [
    "### Question 4. We propose the above model ‘modB’. Compare its AIC with the AIC of the 4 previous model (Part 1- Q1, Part 2-Q3, Part 3-Q2, Part 3- Q3). Which model do you prefer?"
   ]
  },
  {
   "cell_type": "code",
   "execution_count": null,
   "id": "a61b7fd7",
   "metadata": {},
   "outputs": [],
   "source": []
  },
  {
   "cell_type": "markdown",
   "id": "f9709eb5",
   "metadata": {},
   "source": [
    "### Question 5. Does the postulates are validated. What about the outliers?"
   ]
  },
  {
   "cell_type": "code",
   "execution_count": null,
   "id": "73e27151",
   "metadata": {},
   "outputs": [],
   "source": []
  }
 ],
 "metadata": {
  "kernelspec": {
   "display_name": "regression",
   "language": "python",
   "name": "regression"
  },
  "language_info": {
   "codemirror_mode": {
    "name": "ipython",
    "version": 3
   },
   "file_extension": ".py",
   "mimetype": "text/x-python",
   "name": "python",
   "nbconvert_exporter": "python",
   "pygments_lexer": "ipython3",
   "version": "3.6.9"
  }
 },
 "nbformat": 4,
 "nbformat_minor": 5
}
