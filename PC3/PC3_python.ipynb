{
 "cells": [
  {
   "cell_type": "markdown",
   "id": "7ab9a7f3",
   "metadata": {},
   "source": [
    "# PC3 - health data\n",
    "\n",
    "cours [MAP 535](https://moodle.polytechnique.fr/course/view.php?id=14763): Regression de Karim Lounici\n",
    "\n",
    "auteur de ce notebook python : Marc Lelarge"
   ]
  },
  {
   "cell_type": "code",
   "execution_count": null,
   "id": "dc4bab52",
   "metadata": {},
   "outputs": [],
   "source": [
    "import pandas as pd\n",
    "import seaborn as sns\n",
    "import statsmodels.api as sm\n",
    "import numpy as np\n",
    "import matplotlib.pyplot as plt\n",
    "import statsmodels.api as sm"
   ]
  },
  {
   "cell_type": "code",
   "execution_count": null,
   "id": "a2a867e3",
   "metadata": {},
   "outputs": [],
   "source": [
    "from patsy import dmatrices"
   ]
  },
  {
   "cell_type": "markdown",
   "id": "0ea3142a",
   "metadata": {},
   "source": [
    "## 1. Load the data\n",
    "\n",
    "The health dataset contains 4 variables: - “y” is a measure of health risk. - “age” - “tri” (triglycerides) - “chol” (cholesterol)"
   ]
  },
  {
   "cell_type": "code",
   "execution_count": null,
   "id": "9cc2cd6c",
   "metadata": {},
   "outputs": [],
   "source": []
  },
  {
   "cell_type": "markdown",
   "id": "2057902e",
   "metadata": {},
   "source": [
    "# 2. Do the correlation plot. \n",
    "\n",
    "Comment on any interesting patterns."
   ]
  },
  {
   "cell_type": "code",
   "execution_count": null,
   "id": "68fbdc4b",
   "metadata": {},
   "outputs": [],
   "source": []
  },
  {
   "cell_type": "markdown",
   "id": "b3df9a18",
   "metadata": {},
   "source": [
    "## 3.  Fit a linear model for “y” against the other covariates."
   ]
  },
  {
   "cell_type": "code",
   "execution_count": null,
   "id": "37d1b19d",
   "metadata": {},
   "outputs": [],
   "source": []
  },
  {
   "cell_type": "markdown",
   "id": "a2f7a1cb",
   "metadata": {},
   "source": [
    "## 4.  Plot the studentized residuals and Cook’s distances against each covariate. \n",
    "\n",
    "Do you notice anything problematic? In particular, look for any potential non-linear relationships and on any potential outliers and influential points."
   ]
  },
  {
   "cell_type": "code",
   "execution_count": null,
   "id": "1f99ae2f",
   "metadata": {},
   "outputs": [],
   "source": []
  },
  {
   "cell_type": "markdown",
   "id": "36503e61",
   "metadata": {},
   "source": [
    "## 5.  Try adding quadratic terms to obtain a better model (No need to add interaction terms). \n",
    "\n",
    "Repeat the diagnostics. Have some resolve some of the problems. Any new potential outliers and influential point?"
   ]
  },
  {
   "cell_type": "code",
   "execution_count": null,
   "id": "eec37bb3",
   "metadata": {},
   "outputs": [],
   "source": []
  },
  {
   "cell_type": "markdown",
   "id": "48f88b14",
   "metadata": {},
   "source": [
    "## 6.  Remove the problematic datapoints. \n",
    "\n",
    "Refit the quadratic model. Confirm that the residuals and influence diagnostics are improved. \n",
    "Summarize the fitted model and use the t-tests to determine how each covariate impacts “y”."
   ]
  },
  {
   "cell_type": "code",
   "execution_count": null,
   "id": "a4e6fddf",
   "metadata": {},
   "outputs": [],
   "source": []
  }
 ],
 "metadata": {
  "kernelspec": {
   "display_name": "regression",
   "language": "python",
   "name": "regression"
  },
  "language_info": {
   "codemirror_mode": {
    "name": "ipython",
    "version": 3
   },
   "file_extension": ".py",
   "mimetype": "text/x-python",
   "name": "python",
   "nbconvert_exporter": "python",
   "pygments_lexer": "ipython3",
   "version": "3.6.9"
  }
 },
 "nbformat": 4,
 "nbformat_minor": 5
}
